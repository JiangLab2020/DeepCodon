{
 "cells": [
  {
   "cell_type": "code",
   "execution_count": 1,
   "metadata": {},
   "outputs": [],
   "source": [
    "import pandas as pd\n",
    "from tqdm import tqdm"
   ]
  },
  {
   "cell_type": "code",
   "execution_count": 2,
   "metadata": {},
   "outputs": [],
   "source": [
    "df = pd.read_csv(\n",
    "    \"./data/0_inputData/assembly_summary_genbank_Uni_SeqSpeHttp.txt\", sep=\"\\t\"\n",
    ")"
   ]
  },
  {
   "cell_type": "code",
   "execution_count": 3,
   "metadata": {},
   "outputs": [],
   "source": [
    "pairDict = dict()\n",
    "with open(\n",
    "    \"./data/0_inputData/assembly_summary_genbank_Uni_SeqSpeHttp_taxion.txt\", \"r\"\n",
    ") as f:\n",
    "    for line in f:\n",
    "        lines = line.strip().split(\"\\t\")\n",
    "        pairDict[lines[-1]] = [i for i in lines[-2::-1]]"
   ]
  },
  {
   "cell_type": "code",
   "execution_count": null,
   "metadata": {},
   "outputs": [],
   "source": [
    "def ifGenus(genus, organism_name):\n",
    "    for i in genus:\n",
    "        if \" \" in i or i[0].islower() or i not in organism_name:\n",
    "            continue\n",
    "        return i"
   ]
  },
  {
   "cell_type": "code",
   "execution_count": 5,
   "metadata": {},
   "outputs": [],
   "source": [
    "for index, row in df.iterrows():\n",
    "    organism_name = row[\"organism_name\"]\n",
    "    try:\n",
    "        df.at[index, \"genus\"] = ifGenus(pairDict[organism_name], organism_name)\n",
    "        df.at[index, \"Kingdom\"] = pairDict[organism_name][-1]\n",
    "    except:\n",
    "        pass"
   ]
  },
  {
   "cell_type": "code",
   "execution_count": 6,
   "metadata": {},
   "outputs": [],
   "source": [
    "df.to_csv(\n",
    "    \"./data/0_inputData/assembly_summary_genbank_Uni_SeqSpeHttp_R.txt\", index=False\n",
    ")"
   ]
  },
  {
   "cell_type": "code",
   "execution_count": 7,
   "metadata": {},
   "outputs": [],
   "source": [
    "df[\"fileName\"] = df[\"ftp_path\"].str.split(\"/\").str[-1] + \"_\" + \"cds_from_genomic.fna.gz\""
   ]
  },
  {
   "cell_type": "code",
   "execution_count": null,
   "metadata": {},
   "outputs": [],
   "source": [
    "df = df.dropna()\n",
    "df = df[~df[\"Kingdom\"].isin([\"Viruses\", \"unclassified entries\", \"other entries\"])]\n",
    "df = df[\n",
    "    ~df[\"genus\"].str.contains(\n",
    "        \"unclassified|Candidatus|samples|complex|group|unspecified|cluster|uncultured\",\n",
    "        na=False,\n",
    "    )\n",
    "]\n",
    "df = df[\n",
    "    ~df[\"organism_name\"].str.contains(\n",
    "        \"unclassified|Candidatus|samples|complex|group|unspecified|cluster|uncultured\",\n",
    "        na=False,\n",
    "    )\n",
    "]"
   ]
  },
  {
   "cell_type": "code",
   "execution_count": null,
   "metadata": {},
   "outputs": [
    {
     "name": "stderr",
     "output_type": "stream",
     "text": [
      "77293it [19:33, 65.88it/s] \n"
     ]
    }
   ],
   "source": [
    "import os\n",
    "\n",
    "for index, value in tqdm(df[\"fileName\"].items()):\n",
    "    file_path = \"./data/4_filterSeq/\" + value[:-3]\n",
    "    if not os.path.exists(file_path):\n",
    "        df.drop(index, inplace=True)"
   ]
  },
  {
   "cell_type": "code",
   "execution_count": 10,
   "metadata": {},
   "outputs": [],
   "source": [
    "df_grouped_misc = df.groupby(\"genus\").size().reset_index(name=\"genusCount\")\n",
    "df_grouped_misc = df_grouped_misc.sort_values(by=\"genusCount\", ascending=False)\n",
    "df_grouped_misc.to_csv(\"./misc/countNum.csv\", index=False)"
   ]
  },
  {
   "cell_type": "code",
   "execution_count": 11,
   "metadata": {},
   "outputs": [],
   "source": [
    "df_grouped_misc = df_grouped_misc[df_grouped_misc[\"genusCount\"] >= 5]"
   ]
  },
  {
   "cell_type": "code",
   "execution_count": 12,
   "metadata": {},
   "outputs": [],
   "source": [
    "df_grouped = pd.merge(df, df_grouped_misc, on=\"genus\", how=\"right\")"
   ]
  },
  {
   "cell_type": "code",
   "execution_count": null,
   "metadata": {},
   "outputs": [],
   "source": [
    "df_grouped[\"genus\"] = df_grouped[\"genus\"].str.replace(\"/\", \"_\")\n",
    "df_grouped[\"genus\"] = df_grouped[\"genus\"].str.replace(\" \", \"_\")\n",
    "df_grouped[\"genus\"] = df_grouped[\"genus\"].str.replace(\"\\t\", \"_\")\n",
    "df_grouped[\"genus\"] = df_grouped[\"genus\"].str.replace(\"(\", \"_\")\n",
    "df_grouped[\"genus\"] = df_grouped[\"genus\"].str.replace(\")\", \"_\")\n",
    "df_grouped[\"genus\"] = df_grouped[\"genus\"].str.replace(\".\", \"_\")"
   ]
  },
  {
   "cell_type": "code",
   "execution_count": 14,
   "metadata": {},
   "outputs": [],
   "source": [
    "df_grouped.to_pickle(\"./misc/df_grouped.pkl\")"
   ]
  }
 ],
 "metadata": {
  "kernelspec": {
   "display_name": "esp",
   "language": "python",
   "name": "python3"
  },
  "language_info": {
   "codemirror_mode": {
    "name": "ipython",
    "version": 3
   },
   "file_extension": ".py",
   "mimetype": "text/x-python",
   "name": "python",
   "nbconvert_exporter": "python",
   "pygments_lexer": "ipython3",
   "version": "3.8.17"
  }
 },
 "nbformat": 4,
 "nbformat_minor": 4
}
