{
 "cells": [
  {
   "cell_type": "code",
   "execution_count": 1,
   "metadata": {},
   "outputs": [],
   "source": [
    "import pandas as pd"
   ]
  },
  {
   "cell_type": "code",
   "execution_count": 4,
   "metadata": {},
   "outputs": [],
   "source": [
    "df = pd.read_csv(\n",
    "    \"./data/0_inputData/assembly_summary_genbank_Uni_SeqSpeHttp.txt\", sep=\"\\t\"\n",
    ")"
   ]
  },
  {
   "cell_type": "code",
   "execution_count": 5,
   "metadata": {},
   "outputs": [
    {
     "data": {
      "text/html": [
       "<div>\n",
       "<style scoped>\n",
       "    .dataframe tbody tr th:only-of-type {\n",
       "        vertical-align: middle;\n",
       "    }\n",
       "\n",
       "    .dataframe tbody tr th {\n",
       "        vertical-align: top;\n",
       "    }\n",
       "\n",
       "    .dataframe thead th {\n",
       "        text-align: right;\n",
       "    }\n",
       "</style>\n",
       "<table border=\"1\" class=\"dataframe\">\n",
       "  <thead>\n",
       "    <tr style=\"text-align: right;\">\n",
       "      <th></th>\n",
       "      <th>organism_name</th>\n",
       "      <th>ftp_path</th>\n",
       "      <th>assembly_accession</th>\n",
       "    </tr>\n",
       "  </thead>\n",
       "  <tbody>\n",
       "    <tr>\n",
       "      <th>0</th>\n",
       "      <td>Ancylobacter aquaticus</td>\n",
       "      <td>https://ftp.ncbi.nlm.nih.gov/genomes/all/GCF/0...</td>\n",
       "      <td>GCA_004339465.1</td>\n",
       "    </tr>\n",
       "    <tr>\n",
       "      <th>1</th>\n",
       "      <td>Didymella exigua CBS 183.55</td>\n",
       "      <td>https://ftp.ncbi.nlm.nih.gov/genomes/all/GCF/0...</td>\n",
       "      <td>GCA_010094145.1</td>\n",
       "    </tr>\n",
       "    <tr>\n",
       "      <th>2</th>\n",
       "      <td>Hysterium pulicare CBS 123377</td>\n",
       "      <td>https://ftp.ncbi.nlm.nih.gov/genomes/all/GCA/0...</td>\n",
       "      <td>GCA_000467715.1</td>\n",
       "    </tr>\n",
       "    <tr>\n",
       "      <th>3</th>\n",
       "      <td>Massariosphaeria phaeospora</td>\n",
       "      <td>https://ftp.ncbi.nlm.nih.gov/genomes/all/GCA/0...</td>\n",
       "      <td>GCA_011032825.1</td>\n",
       "    </tr>\n",
       "    <tr>\n",
       "      <th>4</th>\n",
       "      <td>Rosellinia necatrix quadrivirus 1</td>\n",
       "      <td>https://ftp.ncbi.nlm.nih.gov/genomes/all/GCF/0...</td>\n",
       "      <td>GCA_000895895.1</td>\n",
       "    </tr>\n",
       "    <tr>\n",
       "      <th>...</th>\n",
       "      <td>...</td>\n",
       "      <td>...</td>\n",
       "      <td>...</td>\n",
       "    </tr>\n",
       "    <tr>\n",
       "      <th>127998</th>\n",
       "      <td>Thermosulfurimonas dismutans</td>\n",
       "      <td>https://ftp.ncbi.nlm.nih.gov/genomes/all/GCF/0...</td>\n",
       "      <td>GCA_001652585.1</td>\n",
       "    </tr>\n",
       "    <tr>\n",
       "      <th>127999</th>\n",
       "      <td>Peptococcaceae bacterium CEB3</td>\n",
       "      <td>https://ftp.ncbi.nlm.nih.gov/genomes/all/GCF/0...</td>\n",
       "      <td>GCA_001029295.1</td>\n",
       "    </tr>\n",
       "    <tr>\n",
       "      <th>128000</th>\n",
       "      <td>Urocitellus parryii</td>\n",
       "      <td>https://ftp.ncbi.nlm.nih.gov/genomes/all/GCF/0...</td>\n",
       "      <td>GCA_003426925.1</td>\n",
       "    </tr>\n",
       "    <tr>\n",
       "      <th>128001</th>\n",
       "      <td>Barrientosiimonas humi</td>\n",
       "      <td>https://ftp.ncbi.nlm.nih.gov/genomes/all/GCF/0...</td>\n",
       "      <td>GCA_006716095.1</td>\n",
       "    </tr>\n",
       "    <tr>\n",
       "      <th>128002</th>\n",
       "      <td>Angomonas ambiguus</td>\n",
       "      <td>https://ftp.ncbi.nlm.nih.gov/genomes/all/GCA/0...</td>\n",
       "      <td>GCA_019695575.1</td>\n",
       "    </tr>\n",
       "  </tbody>\n",
       "</table>\n",
       "<p>128003 rows × 3 columns</p>\n",
       "</div>"
      ],
      "text/plain": [
       "                            organism_name  \\\n",
       "0                  Ancylobacter aquaticus   \n",
       "1             Didymella exigua CBS 183.55   \n",
       "2           Hysterium pulicare CBS 123377   \n",
       "3             Massariosphaeria phaeospora   \n",
       "4       Rosellinia necatrix quadrivirus 1   \n",
       "...                                   ...   \n",
       "127998       Thermosulfurimonas dismutans   \n",
       "127999      Peptococcaceae bacterium CEB3   \n",
       "128000                Urocitellus parryii   \n",
       "128001             Barrientosiimonas humi   \n",
       "128002                 Angomonas ambiguus   \n",
       "\n",
       "                                                 ftp_path assembly_accession  \n",
       "0       https://ftp.ncbi.nlm.nih.gov/genomes/all/GCF/0...    GCA_004339465.1  \n",
       "1       https://ftp.ncbi.nlm.nih.gov/genomes/all/GCF/0...    GCA_010094145.1  \n",
       "2       https://ftp.ncbi.nlm.nih.gov/genomes/all/GCA/0...    GCA_000467715.1  \n",
       "3       https://ftp.ncbi.nlm.nih.gov/genomes/all/GCA/0...    GCA_011032825.1  \n",
       "4       https://ftp.ncbi.nlm.nih.gov/genomes/all/GCF/0...    GCA_000895895.1  \n",
       "...                                                   ...                ...  \n",
       "127998  https://ftp.ncbi.nlm.nih.gov/genomes/all/GCF/0...    GCA_001652585.1  \n",
       "127999  https://ftp.ncbi.nlm.nih.gov/genomes/all/GCF/0...    GCA_001029295.1  \n",
       "128000  https://ftp.ncbi.nlm.nih.gov/genomes/all/GCF/0...    GCA_003426925.1  \n",
       "128001  https://ftp.ncbi.nlm.nih.gov/genomes/all/GCF/0...    GCA_006716095.1  \n",
       "128002  https://ftp.ncbi.nlm.nih.gov/genomes/all/GCA/0...    GCA_019695575.1  \n",
       "\n",
       "[128003 rows x 3 columns]"
      ]
     },
     "execution_count": 5,
     "metadata": {},
     "output_type": "execute_result"
    }
   ],
   "source": [
    "df"
   ]
  },
  {
   "cell_type": "code",
   "execution_count": 6,
   "metadata": {},
   "outputs": [],
   "source": [
    "df[\"ftp_path\"] = (\n",
    "    df[\"ftp_path\"]\n",
    "    + \"/\"\n",
    "    + df[\"ftp_path\"].str.split(\"/\").str[-1]\n",
    "    + \"_\"\n",
    "    + \"cds_from_genomic.fna.gz\"\n",
    ")"
   ]
  },
  {
   "cell_type": "code",
   "execution_count": 7,
   "metadata": {},
   "outputs": [],
   "source": [
    "df[\"ftp_path\"].to_csv(\n",
    "    \"./data/1_downLoadData/4aria2Download.txt\", index=False, header=None\n",
    ")"
   ]
  }
 ],
 "metadata": {
  "kernelspec": {
   "display_name": "esp",
   "language": "python",
   "name": "python3"
  },
  "language_info": {
   "codemirror_mode": {
    "name": "ipython",
    "version": 3
   },
   "file_extension": ".py",
   "mimetype": "text/x-python",
   "name": "python",
   "nbconvert_exporter": "python",
   "pygments_lexer": "ipython3",
   "version": "3.8.17"
  }
 },
 "nbformat": 4,
 "nbformat_minor": 2
}
